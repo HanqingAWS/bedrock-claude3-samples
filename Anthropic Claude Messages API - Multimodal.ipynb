{
 "cells": [
  {
   "cell_type": "markdown",
   "id": "7ca686d2-22a3-4a3a-92ba-472107adcca1",
   "metadata": {
    "tags": []
   },
   "source": [
    "# Anthropic Claude Messages API - Multimodal"
   ]
  },
  {
   "cell_type": "markdown",
   "id": "6b24d17e-6d59-4953-a7ad-df6a375385c0",
   "metadata": {},
   "source": [
    "Initialize packages"
   ]
  },
  {
   "cell_type": "code",
   "execution_count": 2,
   "id": "3c820332-c4d0-4581-98e5-04366d24db49",
   "metadata": {
    "tags": []
   },
   "outputs": [
    {
     "name": "stdout",
     "output_type": "stream",
     "text": [
      "Requirement already satisfied: pip in /home/ec2-user/anaconda3/envs/python3/lib/python3.10/site-packages (23.3.1)\n",
      "Collecting pip\n",
      "  Downloading pip-24.0-py3-none-any.whl.metadata (3.6 kB)\n",
      "Downloading pip-24.0-py3-none-any.whl (2.1 MB)\n",
      "\u001b[2K   \u001b[90m━━━━━━━━━━━━━━━━━━━━━━━━━━━━━━━━━━━━━━━━\u001b[0m \u001b[32m2.1/2.1 MB\u001b[0m \u001b[31m35.9 MB/s\u001b[0m eta \u001b[36m0:00:00\u001b[0ma \u001b[36m0:00:01\u001b[0m\n",
      "\u001b[?25hInstalling collected packages: pip\n",
      "  Attempting uninstall: pip\n",
      "    Found existing installation: pip 23.3.1\n",
      "    Uninstalling pip-23.3.1:\n",
      "      Successfully uninstalled pip-23.3.1\n",
      "Successfully installed pip-24.0\n",
      "Note: you may need to restart the kernel to use updated packages.\n",
      "\u001b[31mERROR: pip's dependency resolver does not currently take into account all the packages that are installed. This behaviour is the source of the following dependency conflicts.\n",
      "awscli 1.32.29 requires botocore==1.34.29, but you have botocore 1.34.56 which is incompatible.\n",
      "sparkmagic 0.21.0 requires pandas<2.0.0,>=0.17.1, but you have pandas 2.1.1 which is incompatible.\n",
      "sphinx 7.2.6 requires docutils<0.21,>=0.18.1, but you have docutils 0.16 which is incompatible.\u001b[0m\u001b[31m\n",
      "\u001b[0mNote: you may need to restart the kernel to use updated packages.\n",
      "\u001b[31mERROR: pip's dependency resolver does not currently take into account all the packages that are installed. This behaviour is the source of the following dependency conflicts.\n",
      "awscli 1.32.29 requires botocore==1.34.29, but you have botocore 1.34.56 which is incompatible.\n",
      "sparkmagic 0.21.0 requires pandas<2.0.0,>=0.17.1, but you have pandas 2.1.1 which is incompatible.\n",
      "sphinx 7.2.6 requires docutils<0.21,>=0.18.1, but you have docutils 0.16 which is incompatible.\u001b[0m\u001b[31m\n",
      "\u001b[0mNote: you may need to restart the kernel to use updated packages.\n"
     ]
    }
   ],
   "source": [
    "%pip install --upgrade pip\n",
    "%pip install boto3>=1.33.2 --force-reinstall --quiet\n",
    "%pip install botocore>=1.33.2 --force-reinstall --quiet"
   ]
  },
  {
   "cell_type": "code",
   "execution_count": 3,
   "id": "c6948e02-a2e3-4f4a-92e3-aab0b4cb1d79",
   "metadata": {
    "tags": []
   },
   "outputs": [
    {
     "data": {
      "text/html": [
       "<script>Jupyter.notebook.kernel.restart()</script>"
      ],
      "text/plain": [
       "<IPython.core.display.HTML object>"
      ]
     },
     "execution_count": 3,
     "metadata": {},
     "output_type": "execute_result"
    }
   ],
   "source": [
    "# restart kernel\n",
    "from IPython.core.display import HTML\n",
    "HTML(\"<script>Jupyter.notebook.kernel.restart()</script>\")"
   ]
  },
  {
   "cell_type": "code",
   "execution_count": 17,
   "id": "8e784158-f6fe-4ff2-b457-6e597a710572",
   "metadata": {
    "tags": []
   },
   "outputs": [],
   "source": [
    "import boto3\n",
    "import json\n",
    "import base64\n",
    "\n",
    "bedrock_client = boto3.client('bedrock-runtime',region_name='us-east-1')"
   ]
  },
  {
   "cell_type": "code",
   "execution_count": 37,
   "id": "da19cc77-11b6-4a4f-b821-da18d90af757",
   "metadata": {
    "tags": []
   },
   "outputs": [],
   "source": [
    "def generate_message(bedrock_runtime, model_id, messages, max_tokens,top_p,temp,system='' if_print=0):\n",
    "\n",
    "    body=json.dumps(\n",
    "        {\n",
    "            \"anthropic_version\": \"bedrock-2023-05-31\",\n",
    "            \"max_tokens\": max_tokens,\n",
    "            \"messages\": messages,\n",
    "            \"temperature\": temp,\n",
    "            \"top_p\": top_p,\n",
    "            \"system\": system\n",
    "        }  \n",
    "    )  \n",
    "    start_time = time.time()\n",
    "    response = bedrock_runtime.invoke_model(body=body, modelId=model_id)\n",
    "    end_time = time.time()\n",
    "    elapsed_time = end_time - start_time\n",
    "    if if_print == 1:\n",
    "        print(\"----------------------------------------- OutPut -----------------------------------------\")\n",
    "        print(\"Elapsed time: \", elapsed_time, \"seconds\")\n",
    "    response_body = json.loads(response.get('body').read())\n",
    "\n",
    "    return response_body"
   ]
  },
  {
   "cell_type": "code",
   "execution_count": 7,
   "id": "1f3ba816-9320-439f-a28e-b65120162769",
   "metadata": {
    "tags": []
   },
   "outputs": [],
   "source": [
    "with open('test.jpeg', \"rb\") as image_file:\n",
    "    content_image = base64.b64encode(image_file.read()).decode('utf8')"
   ]
  },
  {
   "cell_type": "code",
   "execution_count": 34,
   "id": "09454ab2-3f61-450f-af13-c0bf9189c2d7",
   "metadata": {
    "tags": []
   },
   "outputs": [],
   "source": [
    "message_mm=[{ \"role\": \"user\",\"content\": [{\"type\": \"image\",\"source\": { \"type\": \"base64\",\"media_type\": \\\n",
    "                                                                     \"image/jpeg\",\"data\": content_image}},\\\n",
    "                                                                     {\"type\": \"text\",\"text\": \"请从图像中提取广告口号，仅输出广告口号，广告口号不需要翻译，并以<Response>开始，</Response>结束的格式输出\"}]}]"
   ]
  },
  {
   "cell_type": "code",
   "execution_count": 41,
   "id": "36397dda-729f-48f6-b015-c2a1828c7592",
   "metadata": {
    "tags": []
   },
   "outputs": [
    {
     "name": "stdout",
     "output_type": "stream",
     "text": [
      "one hour than you earn in a day at work!\n"
     ]
    }
   ],
   "source": [
    "data = generate_message(bedrock_client, model_id = \"anthropic.claude-3-sonnet-20240229-v1:0\",messages=message_mm,max_tokens=4096,temp=0.5,top_p=0.9,if_print=0)\n",
    "\n",
    "text_value = data['content'][0]['text']\n",
    "response_value = text_value[text_value.find('<Response>') + len('<Response>'):text_value.find('</Response>')]\n",
    "\n",
    "print(response_value)"
   ]
  },
  {
   "cell_type": "code",
   "execution_count": 46,
   "id": "2e5f4835-25eb-454b-91e9-d2da5c8b34f1",
   "metadata": {
    "tags": []
   },
   "outputs": [
    {
     "name": "stdout",
     "output_type": "stream",
     "text": [
      "----------------------------------------- OutPut -----------------------------------------\n",
      "Elapsed time:  7.896224021911621 seconds\n"
     ]
    },
    {
     "data": {
      "text/plain": [
       "{'id': 'msg_01HN5t6xX9FcfuoNb84peyRY',\n",
       " 'type': 'message',\n",
       " 'role': 'assistant',\n",
       " 'content': [{'type': 'text',\n",
       "   'text': 'Quantum mechanics is a fundamental theory in physics that describes the behavior of matter and energy on the atomic and subatomic scale. It is one of the two major pillars of modern physics, alongside Einstein\\'s theory of relativity.\\n\\nSome key principles and phenomena described by quantum mechanics include:\\n\\n1) Wave-particle duality: Particles like electrons can exhibit properties of both particles and waves.\\n\\n2) Quantum state: The state of a particle is described by a wave function, which contains all the information about the particle\\'s behavior.\\n\\n3) Quantum superposition: A particle can exist in a combination or \"superposition\" of multiple states simultaneously before being measured.\\n\\n4) Quantum entanglement: Particles can become \"entangled\" where their states are linked together, even across vast distances.\\n\\n5) Uncertainty principle: There is a fundamental limit to how precisely certain pairs of properties (like position and momentum) can be measured simultaneously.\\n\\nQuantum mechanics departs from classical physics in many striking ways and its counterintuitive principles have profound philosophical and technological implications. It underlies all of chemistry and modern technologies like lasers, transistors, MRIs and quantum computing.'}],\n",
       " 'model': 'claude-3-sonnet-28k-20240229',\n",
       " 'stop_reason': 'end_turn',\n",
       " 'stop_sequence': None,\n",
       " 'usage': {'input_tokens': 12, 'output_tokens': 252}}"
      ]
     },
     "execution_count": 46,
     "metadata": {},
     "output_type": "execute_result"
    }
   ],
   "source": [
    "messages=[{ \"role\":'user', \"content\":[{'type':'text','text': \"What is quantum mechanics?\"}]}]\n",
    "\n",
    "generate_message(bedrock_client, model_id = \"anthropic.claude-3-sonnet-20240229-v1:0\",messages=messages,max_tokens=512,temp=0.5,top_p=0.9)"
   ]
  },
  {
   "cell_type": "code",
   "execution_count": null,
   "id": "dcae70f0-ef4b-4795-84a9-6fe97afa7857",
   "metadata": {},
   "outputs": [],
   "source": [
    "#Messages API with system prompt\n",
    "messages = [{ \"role\":'user', \"content\":[{'type':'text','text': \"What is quantum mechanics?\"}]}]\n",
    "\n",
    "system = \"Respond in a way a caveman would undestand\"\n",
    "generate_message(bedrock_client, model_id = \"anthropic.claude-3-sonnet-20240229-v1:0\",messages=messages,max_tokens=512,temp=0.5,top_p=0.9,system=system)"
   ]
  }
 ],
 "metadata": {
  "kernelspec": {
   "display_name": "conda_python3",
   "language": "python",
   "name": "conda_python3"
  },
  "language_info": {
   "codemirror_mode": {
    "name": "ipython",
    "version": 3
   },
   "file_extension": ".py",
   "mimetype": "text/x-python",
   "name": "python",
   "nbconvert_exporter": "python",
   "pygments_lexer": "ipython3",
   "version": "3.10.13"
  }
 },
 "nbformat": 4,
 "nbformat_minor": 5
}
